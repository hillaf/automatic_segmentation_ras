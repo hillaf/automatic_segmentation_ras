{
 "cells": [
  {
   "cell_type": "code",
   "execution_count": 1,
   "metadata": {},
   "outputs": [],
   "source": [
    "import numpy as np\n",
    "import matplotlib.pyplot as plt\n",
    "import pandas as pd\n",
    "import seaborn as sns\n",
    "\n",
    "import os\n",
    "import json\n",
    "\n",
    "from segmentation_paper_results_methods import compute_mask_metrics, get_features, \\\n",
    "                                               get_feature_array, cross_validate, \\\n",
    "                                               cross_validate_filtering_results, \\\n",
    "                                               cross_validate_baseline_filtering_results, \\\n",
    "                                               check_class_order\n",
    "\n",
    "pd.set_option('display.precision', 3)\n",
    "np.set_printoptions(precision=3)\n"
   ]
  },
  {
   "cell_type": "code",
   "execution_count": 2,
   "metadata": {},
   "outputs": [],
   "source": [
    "# Define path to annotations and parameters for analysis\n",
    "\n",
    "# Manual prompts\n",
    "#dataset_path = \"data/annotations_bounding_box_prompted/\"\n",
    "#prompt_method = 'Manual'  # used in plot titles\n",
    "\n",
    "# Automatic segmentation\n",
    "dataset_path = \"data/annotations_automatic/\"\n",
    "prompt_method = 'Automatic'  # used in plot titles\n",
    "\n",
    "# Baseline filtering parameters\n",
    "BASELINE_FILTER_MIN = 1000\n",
    "BASELINE_FILTER_MAX = 25000"
   ]
  },
  {
   "cell_type": "code",
   "execution_count": 3,
   "metadata": {},
   "outputs": [
    {
     "data": {
      "text/plain": [
       "['annotations_automatic.json']"
      ]
     },
     "execution_count": 3,
     "metadata": {},
     "output_type": "execute_result"
    }
   ],
   "source": [
    "# Analysis parameters\n",
    "classes = ['fish', 'incorrect', 'head', 'multiple']  # class names to use in annotations\n",
    "display_classes = ['Fish', 'Incorrect', 'Head', 'Multiple']  # class names in figures\n",
    "colors = {'fish': 'blue', 'incorrect': 'red', 'head': 'yellow', 'multiple': 'purple'}  # for visualization\n",
    "rs = 43  # random seed\n",
    "path = dataset_path\n",
    "os.listdir(path)"
   ]
  },
  {
   "cell_type": "code",
   "execution_count": 4,
   "metadata": {},
   "outputs": [
    {
     "name": "stdout",
     "output_type": "stream",
     "text": [
      "37 29 15 7 88\n"
     ]
    }
   ],
   "source": [
    "# Images data\n",
    "imgs_path = \"data/images/\"\n",
    "imgs = os.listdir(imgs_path)\n",
    "imgs = [i.split('.png')[0] for i in imgs]\n",
    "\n",
    "# Four different cameras / data sources\n",
    "cam2 = [i for i in imgs if (i.startswith('camera2') or i.startswith('vlc'))]\n",
    "cam3 = [i for i in imgs if i.startswith('camera3')]\n",
    "top = [i for i in imgs if i.startswith('top')]\n",
    "bottom = [i for i in imgs if i.startswith('bottom')]\n",
    "\n",
    "print(len(cam2), len(cam3), len(top), len(bottom), len(imgs))"
   ]
  },
  {
   "cell_type": "code",
   "execution_count": 5,
   "metadata": {},
   "outputs": [
    {
     "name": "stdout",
     "output_type": "stream",
     "text": [
      "dict_keys(['licenses', 'info', 'categories', 'images', 'annotations'])\n",
      "{'id': 1, 'width': 2000, 'height': 1159, 'file_name': 'bottom_2022-4-24_02-18-00_002200.png', 'license': 0, 'flickr_url': '', 'coco_url': '', 'date_captured': 0}\n",
      "{'id': 1, 'image_id': 1, 'category_id': 1, 'segmentation': {'counts': [666811, 4, 1154, 7, 1152, 9, 1149, 12, 1147, 13, 1146, 14, 1144, 16, 1143, 16, 1143, 15, 1143, 16, 1143, 16, 1143, 15, 1143, 16, 1143, 16, 1142, 16, 1143, 16, 1143, 16, 1143, 15, 1144, 15, 1144, 14, 1144, 15, 1144, 14, 1145, 14, 1145, 13, 1145, 13, 1146, 13, 1146, 12, 1147, 11, 1148, 11, 1147, 11, 1148, 11, 1148, 11, 1148, 10, 1148, 11, 1148, 11, 1148, 11, 1147, 12, 1147, 11, 1147, 12, 1147, 12, 1147, 12, 1146, 13, 1146, 13, 1145, 13, 1146, 13, 1146, 13, 1145, 14, 1145, 14, 1144, 15, 1144, 15, 1144, 15, 1143, 16, 1143, 16, 1142, 17, 1142, 17, 1142, 17, 1141, 18, 1141, 18, 1141, 18, 1141, 18, 1140, 19, 1140, 19, 1140, 19, 1140, 19, 1139, 20, 1139, 20, 1139, 20, 1138, 21, 1138, 21, 1137, 22, 1137, 22, 1137, 22, 1136, 23, 1136, 22, 1137, 22, 1137, 22, 1137, 22, 1136, 23, 1136, 23, 1136, 23, 1136, 23, 1136, 23, 1136, 23, 1136, 24, 1135, 24, 1135, 24, 1135, 24, 1134, 25, 1134, 25, 1134, 25, 1134, 25, 1134, 25, 1134, 25, 1134, 25, 1134, 25, 1133, 26, 1133, 26, 1133, 26, 1133, 26, 1133, 26, 1133, 26, 1133, 26, 1133, 26, 1133, 26, 1132, 27, 1132, 27, 1132, 28, 1131, 28, 1131, 28, 1131, 28, 1131, 28, 1131, 28, 1131, 28, 1131, 28, 1131, 28, 1130, 29, 1131, 29, 1130, 29, 1130, 29, 1130, 29, 1131, 28, 1131, 28, 1132, 27, 1132, 28, 1132, 27, 1133, 26, 1133, 26, 1134, 25, 1136, 24, 1136, 23, 1138, 21, 1139, 20, 1140, 19, 1141, 19, 1140, 19, 1140, 19, 1141, 18, 1141, 18, 1141, 18, 1141, 18, 1141, 19, 1140, 19, 1140, 19, 1140, 19, 1140, 20, 1139, 20, 1140, 19, 1140, 20, 1139, 20, 1138, 21, 1138, 21, 1138, 21, 1138, 22, 1137, 22, 1137, 22, 1137, 22, 1137, 22, 1136, 23, 1136, 23, 1136, 23, 1136, 24, 1135, 24, 1135, 24, 1134, 25, 1134, 25, 1134, 25, 1134, 26, 1133, 26, 1133, 26, 1133, 26, 1132, 27, 1132, 27, 1132, 27, 1132, 28, 1130, 29, 1130, 29, 1130, 29, 1130, 29, 1130, 29, 1129, 30, 1129, 30, 1129, 30, 1129, 30, 1129, 30, 1129, 30, 1128, 32, 1127, 32, 1127, 32, 1127, 32, 1127, 32, 1126, 33, 1126, 33, 1126, 33, 1126, 33, 1125, 34, 1125, 34, 1125, 34, 1125, 34, 1124, 36, 1123, 36, 1123, 36, 1122, 37, 1122, 37, 1122, 37, 1122, 37, 1122, 37, 1121, 38, 1121, 38, 1121, 38, 1121, 38, 1121, 38, 1121, 38, 1120, 39, 1120, 39, 1120, 39, 1120, 39, 1120, 39, 1120, 39, 1120, 39, 1120, 39, 1120, 39, 1120, 39, 1120, 39, 1120, 40, 1119, 40, 1119, 40, 1119, 40, 1119, 40, 1119, 40, 1119, 40, 1119, 40, 1119, 41, 1118, 41, 1118, 41, 1118, 41, 1118, 41, 1118, 41, 1119, 40, 1119, 40, 1119, 40, 1119, 40, 1120, 38, 1121, 38, 1121, 38, 1122, 37, 1122, 37, 1122, 36, 1123, 36, 1124, 35, 1124, 35, 1124, 34, 1125, 34, 1125, 34, 1125, 33, 1126, 33, 1126, 33, 1127, 31, 1128, 31, 1128, 31, 1128, 31, 1129, 30, 1129, 30, 1129, 30, 1130, 29, 1130, 29, 1130, 28, 1132, 27, 1132, 27, 1132, 27, 1132, 27, 1132, 27, 1132, 27, 1133, 25, 1134, 25, 1134, 25, 1134, 25, 1135, 24, 1135, 24, 1135, 23, 1136, 23, 1136, 23, 1137, 22, 1137, 21, 1138, 21, 1139, 19, 1140, 19, 1141, 17, 1142, 16, 1144, 13, 1148, 9, 1316239], 'size': [1159, 2000]}, 'area': 7319.0, 'bbox': [575.0, 357.0, 290.0, 44.0], 'iscrowd': 1, 'attributes': {'occluded': False}}\n"
     ]
    },
    {
     "data": {
      "text/html": [
       "<div>\n",
       "<style scoped>\n",
       "    .dataframe tbody tr th:only-of-type {\n",
       "        vertical-align: middle;\n",
       "    }\n",
       "\n",
       "    .dataframe tbody tr th {\n",
       "        vertical-align: top;\n",
       "    }\n",
       "\n",
       "    .dataframe thead th {\n",
       "        text-align: right;\n",
       "    }\n",
       "</style>\n",
       "<table border=\"1\" class=\"dataframe\">\n",
       "  <thead>\n",
       "    <tr style=\"text-align: right;\">\n",
       "      <th></th>\n",
       "      <th>id</th>\n",
       "      <th>image_id</th>\n",
       "      <th>category_id</th>\n",
       "      <th>segmentation</th>\n",
       "      <th>area</th>\n",
       "      <th>bbox</th>\n",
       "      <th>iscrowd</th>\n",
       "      <th>attributes</th>\n",
       "      <th>category_name</th>\n",
       "      <th>file_name</th>\n",
       "      <th>camera</th>\n",
       "    </tr>\n",
       "  </thead>\n",
       "  <tbody>\n",
       "    <tr>\n",
       "      <th>0</th>\n",
       "      <td>1</td>\n",
       "      <td>1</td>\n",
       "      <td>0</td>\n",
       "      <td>[666811, 4, 1154, 7, 1152, 9, 1149, 12, 1147, ...</td>\n",
       "      <td>7319.0</td>\n",
       "      <td>[575.0, 357.0, 290.0, 44.0]</td>\n",
       "      <td>1</td>\n",
       "      <td>{'occluded': False}</td>\n",
       "      <td>fish</td>\n",
       "      <td>bottom_2022-4-24_02-18-00_002200.png</td>\n",
       "      <td>bottom</td>\n",
       "    </tr>\n",
       "    <tr>\n",
       "      <th>1</th>\n",
       "      <td>2</td>\n",
       "      <td>1</td>\n",
       "      <td>0</td>\n",
       "      <td>[481247, 3, 1156, 5, 1153, 7, 1152, 7, 1152, 7...</td>\n",
       "      <td>7870.0</td>\n",
       "      <td>[415.0, 182.0, 282.0, 86.0]</td>\n",
       "      <td>1</td>\n",
       "      <td>{'occluded': False}</td>\n",
       "      <td>fish</td>\n",
       "      <td>bottom_2022-4-24_02-18-00_002200.png</td>\n",
       "      <td>bottom</td>\n",
       "    </tr>\n",
       "    <tr>\n",
       "      <th>2</th>\n",
       "      <td>3</td>\n",
       "      <td>1</td>\n",
       "      <td>2</td>\n",
       "      <td>[749217, 2, 1155, 5, 1151, 9, 1148, 12, 1145, ...</td>\n",
       "      <td>3093.0</td>\n",
       "      <td>[646.0, 449.0, 97.0, 61.0]</td>\n",
       "      <td>1</td>\n",
       "      <td>{'occluded': False}</td>\n",
       "      <td>head</td>\n",
       "      <td>bottom_2022-4-24_02-18-00_002200.png</td>\n",
       "      <td>bottom</td>\n",
       "    </tr>\n",
       "    <tr>\n",
       "      <th>3</th>\n",
       "      <td>4</td>\n",
       "      <td>1</td>\n",
       "      <td>1</td>\n",
       "      <td>[59572, 7, 1150, 13, 1145, 15, 1143, 17, 1142,...</td>\n",
       "      <td>496.0</td>\n",
       "      <td>[51.0, 457.0, 26.0, 24.0]</td>\n",
       "      <td>1</td>\n",
       "      <td>{'occluded': False}</td>\n",
       "      <td>incorrect</td>\n",
       "      <td>bottom_2022-4-24_02-18-00_002200.png</td>\n",
       "      <td>bottom</td>\n",
       "    </tr>\n",
       "    <tr>\n",
       "      <th>4</th>\n",
       "      <td>5</td>\n",
       "      <td>1</td>\n",
       "      <td>0</td>\n",
       "      <td>[274448, 2, 1155, 6, 1152, 7, 1150, 10, 1148, ...</td>\n",
       "      <td>6252.0</td>\n",
       "      <td>[236.0, 911.0, 197.0, 156.0]</td>\n",
       "      <td>1</td>\n",
       "      <td>{'occluded': False}</td>\n",
       "      <td>fish</td>\n",
       "      <td>bottom_2022-4-24_02-18-00_002200.png</td>\n",
       "      <td>bottom</td>\n",
       "    </tr>\n",
       "  </tbody>\n",
       "</table>\n",
       "</div>"
      ],
      "text/plain": [
       "   id  image_id  category_id  \\\n",
       "0   1         1            0   \n",
       "1   2         1            0   \n",
       "2   3         1            2   \n",
       "3   4         1            1   \n",
       "4   5         1            0   \n",
       "\n",
       "                                        segmentation    area  \\\n",
       "0  [666811, 4, 1154, 7, 1152, 9, 1149, 12, 1147, ...  7319.0   \n",
       "1  [481247, 3, 1156, 5, 1153, 7, 1152, 7, 1152, 7...  7870.0   \n",
       "2  [749217, 2, 1155, 5, 1151, 9, 1148, 12, 1145, ...  3093.0   \n",
       "3  [59572, 7, 1150, 13, 1145, 15, 1143, 17, 1142,...   496.0   \n",
       "4  [274448, 2, 1155, 6, 1152, 7, 1150, 10, 1148, ...  6252.0   \n",
       "\n",
       "                           bbox  iscrowd           attributes category_name  \\\n",
       "0   [575.0, 357.0, 290.0, 44.0]        1  {'occluded': False}          fish   \n",
       "1   [415.0, 182.0, 282.0, 86.0]        1  {'occluded': False}          fish   \n",
       "2    [646.0, 449.0, 97.0, 61.0]        1  {'occluded': False}          head   \n",
       "3     [51.0, 457.0, 26.0, 24.0]        1  {'occluded': False}     incorrect   \n",
       "4  [236.0, 911.0, 197.0, 156.0]        1  {'occluded': False}          fish   \n",
       "\n",
       "                              file_name  camera  \n",
       "0  bottom_2022-4-24_02-18-00_002200.png  bottom  \n",
       "1  bottom_2022-4-24_02-18-00_002200.png  bottom  \n",
       "2  bottom_2022-4-24_02-18-00_002200.png  bottom  \n",
       "3  bottom_2022-4-24_02-18-00_002200.png  bottom  \n",
       "4  bottom_2022-4-24_02-18-00_002200.png  bottom  "
      ]
     },
     "execution_count": 5,
     "metadata": {},
     "output_type": "execute_result"
    }
   ],
   "source": [
    "CLASS_ID_MAP = {\n",
    "    'fish': 0,\n",
    "    'bad': 1,\n",
    "    'head': 2,\n",
    "    'double': 3\n",
    "}\n",
    "\n",
    "# Read annotations from the .json file, coco format expected\n",
    "for file in os.listdir(path):\n",
    "    if not file.endswith('.json'):\n",
    "        continue\n",
    "    f = open(path + file)\n",
    "    all_data = json.load(f)\n",
    "    print(all_data.keys())\n",
    "    print(all_data['images'][0])\n",
    "    print(all_data['annotations'][0])\n",
    "\n",
    "    img_files = pd.DataFrame(all_data['images'])\n",
    "    # Create a mapping from CVAT's category_id to category_name\n",
    "    id_to_name = {c['id']: c['name'] for c in all_data['categories']}\n",
    "    \n",
    "    for a in all_data['annotations']:\n",
    "        masks = a['segmentation']['counts']\n",
    "        a['segmentation'] = masks\n",
    "\n",
    "        # Map category_id to consistent category_name\n",
    "        a['category_name'] = id_to_name[a['category_id']]\n",
    "\n",
    "        # Map category_name to canonical class ID\n",
    "        a['category_id'] = CLASS_ID_MAP[a['category_name']]\n",
    "\n",
    "        # Use more appropriate naming instead of bad/double in source data\n",
    "        if a['category_name'] == 'bad':\n",
    "            a['category_name'] = 'incorrect'\n",
    "        if a['category_name'] == 'double':\n",
    "            a['category_name'] = 'multiple'\n",
    "\n",
    "        file_name = img_files[img_files['id'] == a['image_id']]['file_name'].values[0]\n",
    "        a['file_name'] = file_name\n",
    "        a['camera'] = file_name.split('_')[0]\n",
    "\n",
    "df = pd.DataFrame(all_data['annotations'])\n",
    "\n",
    "# Uncomment one line to run the analysis for only one farm\n",
    "#df = df[(df['camera'] == 'bottom')]\n",
    "\n",
    "# Sanity check print\n",
    "df.head()"
   ]
  },
  {
   "cell_type": "code",
   "execution_count": 6,
   "metadata": {},
   "outputs": [
    {
     "data": {
      "text/plain": [
       "id               6376\n",
       "image_id         6376\n",
       "category_id      6376\n",
       "segmentation     6376\n",
       "area             6376\n",
       "bbox             6376\n",
       "iscrowd          6376\n",
       "attributes       6376\n",
       "category_name    6376\n",
       "file_name        6376\n",
       "camera           6376\n",
       "dtype: int64"
      ]
     },
     "execution_count": 6,
     "metadata": {},
     "output_type": "execute_result"
    }
   ],
   "source": [
    "# N\n",
    "df.count()"
   ]
  },
  {
   "cell_type": "code",
   "execution_count": 7,
   "metadata": {},
   "outputs": [
    {
     "data": {
      "text/plain": [
       "category_id  category_name\n",
       "0            fish             3182\n",
       "1            incorrect        1278\n",
       "2            head              674\n",
       "3            multiple         1242\n",
       "Name: id, dtype: int64"
      ]
     },
     "execution_count": 7,
     "metadata": {},
     "output_type": "execute_result"
    }
   ],
   "source": [
    "# true class count of whole dataset before any processing\n",
    "df.groupby(['category_id', 'category_name'])['id'].count()"
   ]
  },
  {
   "cell_type": "code",
   "execution_count": 8,
   "metadata": {},
   "outputs": [],
   "source": [
    "gt = df.groupby(['category_name'])['image_id'].count().to_dict()\n",
    "ground_truth_order = [gt['fish'], gt['incorrect'], gt['head'], gt['multiple']]"
   ]
  },
  {
   "cell_type": "code",
   "execution_count": 9,
   "metadata": {},
   "outputs": [
    {
     "data": {
      "text/plain": [
       "category_name\n",
       "fish         0.499\n",
       "head         0.106\n",
       "incorrect    0.200\n",
       "multiple     0.195\n",
       "Name: iscrowd, dtype: float64"
      ]
     },
     "execution_count": 9,
     "metadata": {},
     "output_type": "execute_result"
    }
   ],
   "source": [
    "# true class distribution of whole dataset before any processing\n",
    "df.groupby(['category_name'])['iscrowd'].count() / df['iscrowd'].count()"
   ]
  },
  {
   "cell_type": "code",
   "execution_count": 10,
   "metadata": {},
   "outputs": [
    {
     "name": "stdout",
     "output_type": "stream",
     "text": [
      "too few points in hull to fit ellipse data/images/top_2022-4-28_02-18-00_002600.png\n",
      "too few points in hull to fit ellipse data/images/camera3_2022-06-23_16-04-55_002500.png\n",
      "too few points in hull to fit ellipse data/images/top_2022-6-1_11-18-00_002000.png\n",
      "too few points in hull to fit ellipse data/images/camera3_2022-06-25_05-03-23_002500.png\n",
      "too few points in hull to fit ellipse data/images/camera3_2022-06-17_16-03-11_002000.png\n",
      "fish df len 3182\n",
      "incorrect df len 1278\n",
      "head df len 674\n",
      "multiple df len 1242\n",
      "lens 0: 3182 , 1: 1278 , 2: 674 , 3: 1242\n",
      "[3182, 1278, 674, 1242]\n",
      "[3182, 1278, 674, 1242]\n",
      "Class order consistent\n"
     ]
    }
   ],
   "source": [
    "# Compute mask features\n",
    "mask_metrics = compute_mask_metrics(imgs, imgs_path, df, img_files, classes)\n",
    "features = get_features(mask_metrics, classes)\n",
    "X, y = get_feature_array(features)\n",
    "check_class_order([len(c) for c in features], ground_truth_order)"
   ]
  },
  {
   "cell_type": "code",
   "execution_count": 11,
   "metadata": {},
   "outputs": [
    {
     "name": "stdout",
     "output_type": "stream",
     "text": [
      "plt plot class counts:  [3182, 1123, 674, 1242]\n"
     ]
    },
    {
     "data": {
      "image/png": "[encoded data removed]",
      "text/plain": [
       "<Figure size 640x480 with 1 Axes>"
      ]
     },
     "metadata": {},
     "output_type": "display_data"
    },
    {
     "name": "stdout",
     "output_type": "stream",
     "text": [
      "         Class  Mask area\n",
      "0         fish     5936.0\n",
      "1         fish     7261.0\n",
      "2         fish     5423.5\n",
      "3         fish     6022.5\n",
      "4         fish     1678.5\n",
      "...        ...        ...\n",
      "6216  multiple     4945.5\n",
      "6217  multiple     5350.5\n",
      "6218  multiple     8418.5\n",
      "6219  multiple     7255.0\n",
      "6220  multiple     6875.0\n",
      "\n",
      "[6221 rows x 2 columns]\n"
     ]
    },
    {
     "data": {
      "image/png": "[encoded data removed]",
      "text/plain": [
       "<Figure size 400x250 with 1 Axes>"
      ]
     },
     "metadata": {},
     "output_type": "display_data"
    }
   ],
   "source": [
    "# Area KDE over histogram\n",
    "\n",
    "maj_all, min_all, areas_all, n_cont_all, n_conv_all, moms_all  = mask_metrics\n",
    "# fish, incorrect, head, multiple\n",
    "display_classes = classes\n",
    "\n",
    "hist_data = [\n",
    "    areas_all['fish'],\n",
    "    [a for a in areas_all['incorrect'] if a < BASELINE_FILTER_MAX],\n",
    "    areas_all['head'],\n",
    "    areas_all['multiple']\n",
    "]\n",
    "print('plt plot class counts: ', [len(h) for h in hist_data])\n",
    "\n",
    "# Correct histogram, sanity check\n",
    "for h in hist_data:\n",
    "    plt.hist(h, alpha=0.5, bins=200)\n",
    "plt.legend(display_classes)\n",
    "plt.show()\n",
    "\n",
    "areas_tuples = []\n",
    "for cat, clss_data in zip(display_classes, hist_data):\n",
    "    areas_tuples.extend([(cat, a) for a in clss_data])\n",
    "\n",
    "df_area_plot = pd.DataFrame(areas_tuples, columns=['Class', 'Mask area'])\n",
    "print(df_area_plot)\n",
    "\n",
    "# More visually appealing histogram for the article\n",
    "plt.figure(figsize=(4, 2.5))\n",
    "sns_plot = sns.histplot(\n",
    "    data=df_area_plot,\n",
    "    x='Mask area',\n",
    "    hue='Class',\n",
    "    kde=True,\n",
    "    kde_kws={'bw_adjust': 0.25},\n",
    "    fill=False,\n",
    "    line_kws={'lw': 2},\n",
    "    alpha=1,\n",
    "    )\n",
    "\n",
    "sns_plot.figure.savefig('figure8_left.pdf', dpi=600, bbox_inches='tight', format='pdf')\n",
    "\n",
    "plt.show()"
   ]
  },
  {
   "cell_type": "code",
   "execution_count": 12,
   "metadata": {},
   "outputs": [
    {
     "name": "stdout",
     "output_type": "stream",
     "text": [
      "0.9942501735932361\n",
      "  Class  2nd Hu moment invariant\n",
      "0  fish                    0.316\n",
      "1  fish                    0.658\n",
      "2  fish                    0.210\n",
      "3  fish                    0.292\n",
      "4  fish                    0.146\n"
     ]
    },
    {
     "data": {
      "image/png": "[encoded data removed]",
      "text/plain": [
       "<Figure size 640x480 with 1 Axes>"
      ]
     },
     "metadata": {},
     "output_type": "display_data"
    },
    {
     "data": {
      "image/png": "[encoded data removed]",
      "text/plain": [
       "<Figure size 400x250 with 1 Axes>"
      ]
     },
     "metadata": {},
     "output_type": "display_data"
    }
   ],
   "source": [
    "# Maj KDE over histogram\n",
    "\n",
    "maj_all, min_all, areas_all, n_cont_all, n_conv_all, moms_all  = mask_metrics\n",
    "\n",
    "hist_data = [\n",
    "    moms_all['fish'],\n",
    "    moms_all['incorrect'],\n",
    "    moms_all['head'],\n",
    "    moms_all['multiple']\n",
    "]\n",
    "\n",
    "mom_tuples = []\n",
    "for cat, clss_data in zip(display_classes, hist_data):\n",
    "    mom_tuples.extend([(cat, a[1]) for a in clss_data if a[1] < 1])\n",
    "\n",
    "df_mom_plot = pd.DataFrame(mom_tuples, columns=['Class', '2nd Hu moment invariant'])\n",
    "\n",
    "print(df_mom_plot['2nd Hu moment invariant'].max())\n",
    "print(df_mom_plot.head())\n",
    "\n",
    "# Correct histogram\n",
    "for d in display_classes:\n",
    "    plt.hist(df_mom_plot[df_mom_plot['Class'] == d]['2nd Hu moment invariant'].values, alpha=0.5, bins=200)\n",
    "plt.legend(display_classes)\n",
    "plt.show()\n",
    "\n",
    "\n",
    "plt.figure(figsize=(4, 2.5))\n",
    "sns_plot = sns.histplot(\n",
    "    data=df_mom_plot,\n",
    "    x='2nd Hu moment invariant',\n",
    "    hue='Class',\n",
    "    kde=True,\n",
    "    kde_kws={'bw_adjust': 0.25},\n",
    "    fill=False,\n",
    "    line_kws={'lw': 2},\n",
    "    alpha=1)\n",
    "\n",
    "sns_plot.figure.savefig('figure8_right.pdf', dpi=600, bbox_inches='tight', format='pdf')\n",
    "plt.show()"
   ]
  },
  {
   "cell_type": "code",
   "execution_count": 13,
   "metadata": {},
   "outputs": [
    {
     "name": "stdout",
     "output_type": "stream",
     "text": [
      "N 5786\n",
      "Distribution of classes \n",
      " category_name\n",
      "fish         0.549\n",
      "head         0.109\n",
      "incorrect    0.127\n",
      "multiple     0.215\n",
      "Name: iscrowd, dtype: float64\n"
     ]
    }
   ],
   "source": [
    "# Baseline filtering results for the whole dataset (sanity check, no cross-validation here)\n",
    "filtered_masks = []\n",
    "for i, seg in df.iterrows():\n",
    "    if (seg['area'] < BASELINE_FILTER_MAX) and (seg['area'] > BASELINE_FILTER_MIN):\n",
    "        filtered_masks.append(seg)\n",
    "\n",
    "baseline_filtered_df = pd.DataFrame(filtered_masks)\n",
    "print('N', baseline_filtered_df['iscrowd'].count())\n",
    "print('Distribution of classes \\n', \\\n",
    "      baseline_filtered_df.groupby(['category_name'])['iscrowd'].count() / baseline_filtered_df['iscrowd'].count())"
   ]
  },
  {
   "cell_type": "code",
   "execution_count": 14,
   "metadata": {},
   "outputs": [
    {
     "data": {
      "text/plain": [
       "category_name\n",
       "fish         3176\n",
       "head          631\n",
       "incorrect     737\n",
       "multiple     1242\n",
       "Name: iscrowd, dtype: int64"
      ]
     },
     "execution_count": 14,
     "metadata": {},
     "output_type": "execute_result"
    }
   ],
   "source": [
    "baseline_filtered_df.groupby(['category_name'])['iscrowd'].count() "
   ]
  },
  {
   "cell_type": "code",
   "execution_count": 15,
   "metadata": {},
   "outputs": [
    {
     "name": "stdout",
     "output_type": "stream",
     "text": [
      "One-vs-all binary classification, class 0 : fish vs all\n",
      "Cross-validation, model KNeighborsClassifier(n_neighbors=3)\n",
      "0.791 accuracy with a standard deviation of 0.005\n",
      "Cross-validation, model MLPClassifier(alpha=0.05, max_iter=5000, random_state=43)\n",
      "0.834 accuracy with a standard deviation of 0.005\n",
      "Cross-validation, model RandomForestClassifier(max_depth=10, max_features=3, n_estimators=20,\n",
      "                       random_state=43)\n",
      "0.842 accuracy with a standard deviation of 0.011\n"
     ]
    }
   ],
   "source": [
    "cross_validate(X, y, 0, rs, classes)"
   ]
  },
  {
   "cell_type": "code",
   "execution_count": 16,
   "metadata": {},
   "outputs": [
    {
     "name": "stdout",
     "output_type": "stream",
     "text": [
      "One-vs-all binary classification, class 1 : incorrect vs all\n",
      "Cross-validation, model KNeighborsClassifier(n_neighbors=3)\n",
      "0.880 accuracy with a standard deviation of 0.005\n",
      "Cross-validation, model MLPClassifier(alpha=0.05, max_iter=5000, random_state=43)\n",
      "0.897 accuracy with a standard deviation of 0.005\n",
      "Cross-validation, model RandomForestClassifier(max_depth=10, max_features=3, n_estimators=20,\n",
      "                       random_state=43)\n",
      "0.902 accuracy with a standard deviation of 0.009\n"
     ]
    }
   ],
   "source": [
    "cross_validate(X, y, 1, rs, classes)"
   ]
  },
  {
   "cell_type": "code",
   "execution_count": 17,
   "metadata": {},
   "outputs": [
    {
     "name": "stdout",
     "output_type": "stream",
     "text": [
      "One-vs-all binary classification, class 2 : head vs all\n",
      "Cross-validation, model KNeighborsClassifier(n_neighbors=3)\n",
      "0.906 accuracy with a standard deviation of 0.004\n",
      "Cross-validation, model MLPClassifier(alpha=0.05, max_iter=5000, random_state=43)\n",
      "0.917 accuracy with a standard deviation of 0.002\n",
      "Cross-validation, model RandomForestClassifier(max_depth=10, max_features=3, n_estimators=20,\n",
      "                       random_state=43)\n",
      "0.926 accuracy with a standard deviation of 0.003\n"
     ]
    }
   ],
   "source": [
    "cross_validate(X, y, 2, rs, classes)"
   ]
  },
  {
   "cell_type": "code",
   "execution_count": 18,
   "metadata": {},
   "outputs": [
    {
     "name": "stdout",
     "output_type": "stream",
     "text": [
      "One-vs-all binary classification, class 3 : multiple vs all\n",
      "Cross-validation, model KNeighborsClassifier(n_neighbors=3)\n",
      "0.821 accuracy with a standard deviation of 0.009\n",
      "Cross-validation, model MLPClassifier(alpha=0.05, max_iter=5000, random_state=43)\n",
      "0.863 accuracy with a standard deviation of 0.009\n",
      "Cross-validation, model RandomForestClassifier(max_depth=10, max_features=3, n_estimators=20,\n",
      "                       random_state=43)\n",
      "0.861 accuracy with a standard deviation of 0.007\n"
     ]
    }
   ],
   "source": [
    "cross_validate(X, y, 3, rs, classes)"
   ]
  },
  {
   "cell_type": "code",
   "execution_count": 19,
   "metadata": {},
   "outputs": [
    {
     "name": "stdout",
     "output_type": "stream",
     "text": [
      "[3182, 1278, 674, 1242]\n",
      "[3182, 1278, 674, 1242]\n",
      "Class order consistent\n",
      "N 6376\n",
      "Train/test split 5100 / 1276\n",
      "Train/test split 5101 / 1275\n",
      "Train/test split 5101 / 1275\n",
      "Train/test split 5101 / 1275\n",
      "Train/test split 5101 / 1275\n",
      "\n",
      "BASELINE RESULTS\n",
      "\n",
      "Fish %, mean and std:  0.549 0.001\n",
      "Fish+head %, mean and std:  0.658 0.002\n",
      "Fish+head+multiple %, mean and std:  0.873 0.002\n",
      "\n",
      "Unfiltered fish %, mean and std:  0.49906 0.00031\n",
      "Unfiltered fish + head %, mean:  0.60477\n"
     ]
    }
   ],
   "source": [
    "# Cross-validated baseline filtering performance: SIZE ONLY\n",
    "scores_f, scores_fh, scores_fhm, scores_tf, scores_tfh = cross_validate_baseline_filtering_results(df, rs, \\\n",
    "                                                                                                   BASELINE_FILTER_MAX, BASELINE_FILTER_MIN, \\\n",
    "                                                                                                   ground_truth_order)\n",
    "\n",
    "print('\\nBASELINE RESULTS')\n",
    "print('\\nFish %, mean and std: ', \"{:.3f}\".format(np.mean(scores_f)), \"{:.3f}\".format(np.std(scores_f)))\n",
    "print('Fish+head %, mean and std: ', \"{:.3f}\".format(np.mean(scores_fh)), \"{:.3f}\".format(np.std(scores_fh)))\n",
    "print('Fish+head+multiple %, mean and std: ', \"{:.3f}\".format(np.mean(scores_fhm)), \"{:.3f}\".format(np.std(scores_fhm)))\n",
    "\n",
    "print('\\nUnfiltered fish %, mean and std: ', \"{:.5f}\".format(np.mean(scores_tf)), \"{:.5f}\".format(np.std(scores_tf)))\n",
    "print('Unfiltered fish + head %, mean: ', \"{:.5f}\".format(np.mean(scores_tf) + np.mean(scores_tfh)))"
   ]
  },
  {
   "cell_type": "code",
   "execution_count": 20,
   "metadata": {},
   "outputs": [
    {
     "name": "stdout",
     "output_type": "stream",
     "text": [
      "Train/test split 5100 / 1276\n",
      "Train/test split 5101 / 1275\n",
      "Train/test split 5101 / 1275\n",
      "Train/test split 5101 / 1275\n",
      "Train/test split 5101 / 1275\n"
     ]
    },
    {
     "data": {
      "image/png": "[encoded data removed]",
      "text/plain": [
       "<Figure size 640x480 with 2 Axes>"
      ]
     },
     "metadata": {},
     "output_type": "display_data"
    },
    {
     "name": "stdout",
     "output_type": "stream",
     "text": [
      "\n",
      "CLASSIFIER FILTERING RESULTS\n",
      "Fish %, mean and std:  0.701 0.005\n",
      "Fish+head %, mean and std:  0.775 0.007\n",
      "Fish+head+multiple %, mean and std:  0.905 0.006\n"
     ]
    }
   ],
   "source": [
    "# Cross-validated baseline filtering performance of the RF classifier\n",
    "scores_f, scores_fh, scores_fhm = cross_validate_filtering_results(X, y, rs, prompt_method, binary=False)\n",
    "print('\\nCLASSIFIER FILTERING RESULTS')\n",
    "print('Fish %, mean and std: ', \"{:.3f}\".format(np.mean(scores_f)), \"{:.3f}\".format(np.std(scores_f)))\n",
    "print('Fish+head %, mean and std: ', \"{:.3f}\".format(np.mean(scores_fh)), \"{:.3f}\".format(np.std(scores_fh)))\n",
    "print('Fish+head+multiple %, mean and std: ', \"{:.3f}\".format(np.mean(scores_fhm)), \"{:.3f}\".format(np.std(scores_fhm)))\n",
    "\n"
   ]
  },
  {
   "cell_type": "code",
   "execution_count": null,
   "metadata": {},
   "outputs": [],
   "source": []
  },
  {
   "cell_type": "code",
   "execution_count": null,
   "metadata": {},
   "outputs": [],
   "source": []
  },
  {
   "cell_type": "code",
   "execution_count": null,
   "metadata": {},
   "outputs": [],
   "source": []
  },
  {
   "cell_type": "code",
   "execution_count": null,
   "metadata": {},
   "outputs": [],
   "source": []
  },
  {
   "cell_type": "code",
   "execution_count": null,
   "metadata": {},
   "outputs": [],
   "source": []
  },
  {
   "cell_type": "code",
   "execution_count": null,
   "metadata": {},
   "outputs": [],
   "source": []
  }
 ],
 "metadata": {
  "kernelspec": {
   "display_name": "seg-paper-env",
   "language": "python",
   "name": "python3"
  },
  "language_info": {
   "codemirror_mode": {
    "name": "ipython",
    "version": 3
   },
   "file_extension": ".py",
   "mimetype": "text/x-python",
   "name": "python",
   "nbconvert_exporter": "python",
   "pygments_lexer": "ipython3",
   "version": "3.9.6"
  }
 },
 "nbformat": 4,
 "nbformat_minor": 2
}
