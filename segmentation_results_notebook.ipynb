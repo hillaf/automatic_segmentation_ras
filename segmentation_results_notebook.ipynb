{
 "cells": [
  {
   "cell_type": "code",
   "execution_count": 1,
   "metadata": {},
   "outputs": [],
   "source": [
    "import numpy as np\n",
    "import matplotlib.pyplot as plt\n",
    "import pandas as pd\n",
    "import seaborn as sns\n",
    "\n",
    "import os\n",
    "import json\n",
    "\n",
    "from segmentation_paper_results_methods import compute_mask_metrics, get_features, \\\n",
    "                                               get_feature_array, cross_validate, \\\n",
    "                                               cross_validate_filtering_results, \\\n",
    "                                               cross_validate_baseline_filtering_results\n",
    "\n",
    "pd.set_option('display.precision', 4)\n",
    "np.set_printoptions(precision=2)"
   ]
  },
  {
   "cell_type": "code",
   "execution_count": 2,
   "metadata": {},
   "outputs": [
    {
     "data": {
      "text/plain": [
       "['instances_default.json']"
      ]
     },
     "execution_count": 2,
     "metadata": {},
     "output_type": "execute_result"
    }
   ],
   "source": [
    "# Define path to annotations and parameters for analysis\n",
    "dataset_path = \"../../segmentation_masks_data/AUTOMATIC_20250305/\"\n",
    "prompt_method = 'Automatic'  # used in plot titles\n",
    "classes = ['fish', 'bad', 'head', 'double']  # class names in annotations\n",
    "display_classes = ['Fish', 'Incorrect', 'Head', 'Multiple']  # class names in figures\n",
    "colors = {'fish': 'blue', 'bad': 'red', 'head': 'yellow', 'double': 'purple'}  # for visualization\n",
    "rs = 43  # random seed\n",
    "BASELINE_FILTER_MIN = 1000\n",
    "BASELINE_FILTER_MAX = 25000\n",
    "path = dataset_path\n",
    "os.listdir(path)"
   ]
  },
  {
   "cell_type": "code",
   "execution_count": 3,
   "metadata": {},
   "outputs": [
    {
     "name": "stdout",
     "output_type": "stream",
     "text": [
      "37 29 15 7 88\n"
     ]
    }
   ],
   "source": [
    "# Images data\n",
    "imgs_path = \"../../segmentation_masks_data/images/\"\n",
    "imgs = os.listdir(imgs_path)\n",
    "imgs = [i.split('.png')[0] for i in imgs]\n",
    "\n",
    "cam2 = [i for i in imgs if (i.startswith('camera2') or i.startswith('vlc'))]\n",
    "cam3 = [i for i in imgs if i.startswith('camera3')]\n",
    "top = [i for i in imgs if i.startswith('top')]\n",
    "bottom = [i for i in imgs if i.startswith('bottom')]\n",
    "\n",
    "print(len(cam2), len(cam3), len(top), len(bottom), len(imgs))"
   ]
  },
  {
   "cell_type": "code",
   "execution_count": 4,
   "metadata": {},
   "outputs": [
    {
     "name": "stdout",
     "output_type": "stream",
     "text": [
      "dict_keys(['licenses', 'info', 'categories', 'images', 'annotations'])\n",
      "{'id': 1, 'width': 2000, 'height': 1159, 'file_name': 'bottom_2022-4-24_02-18-00_002200.png', 'license': 0, 'flickr_url': '', 'coco_url': '', 'date_captured': 0}\n",
      "{'id': 1, 'image_id': 1, 'category_id': 1, 'segmentation': {'counts': [666811, 4, 1154, 7, 1152, 9, 1149, 12, 1147, 13, 1146, 14, 1144, 16, 1143, 16, 1143, 15, 1143, 16, 1143, 16, 1143, 15, 1143, 16, 1143, 16, 1142, 16, 1143, 16, 1143, 16, 1143, 15, 1144, 15, 1144, 14, 1144, 15, 1144, 14, 1145, 14, 1145, 13, 1145, 13, 1146, 13, 1146, 12, 1147, 11, 1148, 11, 1147, 11, 1148, 11, 1148, 11, 1148, 10, 1148, 11, 1148, 11, 1148, 11, 1147, 12, 1147, 11, 1147, 12, 1147, 12, 1147, 12, 1146, 13, 1146, 13, 1145, 13, 1146, 13, 1146, 13, 1145, 14, 1145, 14, 1144, 15, 1144, 15, 1144, 15, 1143, 16, 1143, 16, 1142, 17, 1142, 17, 1142, 17, 1141, 18, 1141, 18, 1141, 18, 1141, 18, 1140, 19, 1140, 19, 1140, 19, 1140, 19, 1139, 20, 1139, 20, 1139, 20, 1138, 21, 1138, 21, 1137, 22, 1137, 22, 1137, 22, 1136, 23, 1136, 22, 1137, 22, 1137, 22, 1137, 22, 1136, 23, 1136, 23, 1136, 23, 1136, 23, 1136, 23, 1136, 23, 1136, 24, 1135, 24, 1135, 24, 1135, 24, 1134, 25, 1134, 25, 1134, 25, 1134, 25, 1134, 25, 1134, 25, 1134, 25, 1134, 25, 1133, 26, 1133, 26, 1133, 26, 1133, 26, 1133, 26, 1133, 26, 1133, 26, 1133, 26, 1133, 26, 1132, 27, 1132, 27, 1132, 28, 1131, 28, 1131, 28, 1131, 28, 1131, 28, 1131, 28, 1131, 28, 1131, 28, 1131, 28, 1130, 29, 1131, 29, 1130, 29, 1130, 29, 1130, 29, 1131, 28, 1131, 28, 1132, 27, 1132, 28, 1132, 27, 1133, 26, 1133, 26, 1134, 25, 1136, 24, 1136, 23, 1138, 21, 1139, 20, 1140, 19, 1141, 19, 1140, 19, 1140, 19, 1141, 18, 1141, 18, 1141, 18, 1141, 18, 1141, 19, 1140, 19, 1140, 19, 1140, 19, 1140, 20, 1139, 20, 1140, 19, 1140, 20, 1139, 20, 1138, 21, 1138, 21, 1138, 21, 1138, 22, 1137, 22, 1137, 22, 1137, 22, 1137, 22, 1136, 23, 1136, 23, 1136, 23, 1136, 24, 1135, 24, 1135, 24, 1134, 25, 1134, 25, 1134, 25, 1134, 26, 1133, 26, 1133, 26, 1133, 26, 1132, 27, 1132, 27, 1132, 27, 1132, 28, 1130, 29, 1130, 29, 1130, 29, 1130, 29, 1130, 29, 1129, 30, 1129, 30, 1129, 30, 1129, 30, 1129, 30, 1129, 30, 1128, 32, 1127, 32, 1127, 32, 1127, 32, 1127, 32, 1126, 33, 1126, 33, 1126, 33, 1126, 33, 1125, 34, 1125, 34, 1125, 34, 1125, 34, 1124, 36, 1123, 36, 1123, 36, 1122, 37, 1122, 37, 1122, 37, 1122, 37, 1122, 37, 1121, 38, 1121, 38, 1121, 38, 1121, 38, 1121, 38, 1121, 38, 1120, 39, 1120, 39, 1120, 39, 1120, 39, 1120, 39, 1120, 39, 1120, 39, 1120, 39, 1120, 39, 1120, 39, 1120, 39, 1120, 40, 1119, 40, 1119, 40, 1119, 40, 1119, 40, 1119, 40, 1119, 40, 1119, 40, 1119, 41, 1118, 41, 1118, 41, 1118, 41, 1118, 41, 1118, 41, 1119, 40, 1119, 40, 1119, 40, 1119, 40, 1120, 38, 1121, 38, 1121, 38, 1122, 37, 1122, 37, 1122, 36, 1123, 36, 1124, 35, 1124, 35, 1124, 34, 1125, 34, 1125, 34, 1125, 33, 1126, 33, 1126, 33, 1127, 31, 1128, 31, 1128, 31, 1128, 31, 1129, 30, 1129, 30, 1129, 30, 1130, 29, 1130, 29, 1130, 28, 1132, 27, 1132, 27, 1132, 27, 1132, 27, 1132, 27, 1132, 27, 1133, 25, 1134, 25, 1134, 25, 1134, 25, 1135, 24, 1135, 24, 1135, 23, 1136, 23, 1136, 23, 1137, 22, 1137, 21, 1138, 21, 1139, 19, 1140, 19, 1141, 17, 1142, 16, 1144, 13, 1148, 9, 1316239], 'size': [1159, 2000]}, 'area': 7319.0, 'bbox': [575.0, 357.0, 290.0, 44.0], 'iscrowd': 1, 'attributes': {'occluded': False}}\n"
     ]
    },
    {
     "data": {
      "text/html": [
       "<div>\n",
       "<style scoped>\n",
       "    .dataframe tbody tr th:only-of-type {\n",
       "        vertical-align: middle;\n",
       "    }\n",
       "\n",
       "    .dataframe tbody tr th {\n",
       "        vertical-align: top;\n",
       "    }\n",
       "\n",
       "    .dataframe thead th {\n",
       "        text-align: right;\n",
       "    }\n",
       "</style>\n",
       "<table border=\"1\" class=\"dataframe\">\n",
       "  <thead>\n",
       "    <tr style=\"text-align: right;\">\n",
       "      <th></th>\n",
       "      <th>id</th>\n",
       "      <th>image_id</th>\n",
       "      <th>category_id</th>\n",
       "      <th>segmentation</th>\n",
       "      <th>area</th>\n",
       "      <th>bbox</th>\n",
       "      <th>iscrowd</th>\n",
       "      <th>attributes</th>\n",
       "      <th>category_name</th>\n",
       "      <th>file_name</th>\n",
       "      <th>camera</th>\n",
       "    </tr>\n",
       "  </thead>\n",
       "  <tbody>\n",
       "    <tr>\n",
       "      <th>0</th>\n",
       "      <td>1</td>\n",
       "      <td>1</td>\n",
       "      <td>1</td>\n",
       "      <td>[666811, 4, 1154, 7, 1152, 9, 1149, 12, 1147, ...</td>\n",
       "      <td>7319.0</td>\n",
       "      <td>[575.0, 357.0, 290.0, 44.0]</td>\n",
       "      <td>1</td>\n",
       "      <td>{'occluded': False}</td>\n",
       "      <td>fish</td>\n",
       "      <td>bottom_2022-4-24_02-18-00_002200.png</td>\n",
       "      <td>bottom</td>\n",
       "    </tr>\n",
       "    <tr>\n",
       "      <th>1</th>\n",
       "      <td>2</td>\n",
       "      <td>1</td>\n",
       "      <td>1</td>\n",
       "      <td>[481247, 3, 1156, 5, 1153, 7, 1152, 7, 1152, 7...</td>\n",
       "      <td>7870.0</td>\n",
       "      <td>[415.0, 182.0, 282.0, 86.0]</td>\n",
       "      <td>1</td>\n",
       "      <td>{'occluded': False}</td>\n",
       "      <td>fish</td>\n",
       "      <td>bottom_2022-4-24_02-18-00_002200.png</td>\n",
       "      <td>bottom</td>\n",
       "    </tr>\n",
       "    <tr>\n",
       "      <th>2</th>\n",
       "      <td>3</td>\n",
       "      <td>1</td>\n",
       "      <td>4</td>\n",
       "      <td>[749217, 2, 1155, 5, 1151, 9, 1148, 12, 1145, ...</td>\n",
       "      <td>3093.0</td>\n",
       "      <td>[646.0, 449.0, 97.0, 61.0]</td>\n",
       "      <td>1</td>\n",
       "      <td>{'occluded': False}</td>\n",
       "      <td>head</td>\n",
       "      <td>bottom_2022-4-24_02-18-00_002200.png</td>\n",
       "      <td>bottom</td>\n",
       "    </tr>\n",
       "    <tr>\n",
       "      <th>3</th>\n",
       "      <td>4</td>\n",
       "      <td>1</td>\n",
       "      <td>2</td>\n",
       "      <td>[59572, 7, 1150, 13, 1145, 15, 1143, 17, 1142,...</td>\n",
       "      <td>496.0</td>\n",
       "      <td>[51.0, 457.0, 26.0, 24.0]</td>\n",
       "      <td>1</td>\n",
       "      <td>{'occluded': False}</td>\n",
       "      <td>bad</td>\n",
       "      <td>bottom_2022-4-24_02-18-00_002200.png</td>\n",
       "      <td>bottom</td>\n",
       "    </tr>\n",
       "    <tr>\n",
       "      <th>4</th>\n",
       "      <td>5</td>\n",
       "      <td>1</td>\n",
       "      <td>1</td>\n",
       "      <td>[274448, 2, 1155, 6, 1152, 7, 1150, 10, 1148, ...</td>\n",
       "      <td>6252.0</td>\n",
       "      <td>[236.0, 911.0, 197.0, 156.0]</td>\n",
       "      <td>1</td>\n",
       "      <td>{'occluded': False}</td>\n",
       "      <td>fish</td>\n",
       "      <td>bottom_2022-4-24_02-18-00_002200.png</td>\n",
       "      <td>bottom</td>\n",
       "    </tr>\n",
       "  </tbody>\n",
       "</table>\n",
       "</div>"
      ],
      "text/plain": [
       "   id  image_id  category_id  \\\n",
       "0   1         1            1   \n",
       "1   2         1            1   \n",
       "2   3         1            4   \n",
       "3   4         1            2   \n",
       "4   5         1            1   \n",
       "\n",
       "                                        segmentation    area  \\\n",
       "0  [666811, 4, 1154, 7, 1152, 9, 1149, 12, 1147, ...  7319.0   \n",
       "1  [481247, 3, 1156, 5, 1153, 7, 1152, 7, 1152, 7...  7870.0   \n",
       "2  [749217, 2, 1155, 5, 1151, 9, 1148, 12, 1145, ...  3093.0   \n",
       "3  [59572, 7, 1150, 13, 1145, 15, 1143, 17, 1142,...   496.0   \n",
       "4  [274448, 2, 1155, 6, 1152, 7, 1150, 10, 1148, ...  6252.0   \n",
       "\n",
       "                           bbox  iscrowd           attributes category_name  \\\n",
       "0   [575.0, 357.0, 290.0, 44.0]        1  {'occluded': False}          fish   \n",
       "1   [415.0, 182.0, 282.0, 86.0]        1  {'occluded': False}          fish   \n",
       "2    [646.0, 449.0, 97.0, 61.0]        1  {'occluded': False}          head   \n",
       "3     [51.0, 457.0, 26.0, 24.0]        1  {'occluded': False}           bad   \n",
       "4  [236.0, 911.0, 197.0, 156.0]        1  {'occluded': False}          fish   \n",
       "\n",
       "                              file_name  camera  \n",
       "0  bottom_2022-4-24_02-18-00_002200.png  bottom  \n",
       "1  bottom_2022-4-24_02-18-00_002200.png  bottom  \n",
       "2  bottom_2022-4-24_02-18-00_002200.png  bottom  \n",
       "3  bottom_2022-4-24_02-18-00_002200.png  bottom  \n",
       "4  bottom_2022-4-24_02-18-00_002200.png  bottom  "
      ]
     },
     "execution_count": 4,
     "metadata": {},
     "output_type": "execute_result"
    }
   ],
   "source": [
    "# Read annotations from the .json file, coco format expected\n",
    "for file in os.listdir(path):\n",
    "    if not file.endswith('.json'):\n",
    "        continue\n",
    "    f = open(path + file)\n",
    "    all_data = json.load(f)\n",
    "    print(all_data.keys())\n",
    "    print(all_data['images'][0])\n",
    "    print(all_data['annotations'][0])\n",
    "\n",
    "    img_files = pd.DataFrame(all_data['images'])\n",
    "    \n",
    "    for a in all_data['annotations']:\n",
    "        masks = a['segmentation']['counts']\n",
    "        a['segmentation'] = masks\n",
    "        a['category_name'] = all_data['categories'][a['category_id']-1]['name']\n",
    "        file_name = img_files[img_files['id'] == a['image_id']]['file_name'].values[0]\n",
    "        a['file_name'] = file_name\n",
    "        a['camera'] = file_name.split('_')[0]\n",
    "\n",
    "df = pd.DataFrame(all_data['annotations'])\n",
    "\n",
    "# Results for only one camera \n",
    "#df = df[((df['camera'] == 'bottom') | (df['camera'] == 'top'))]\n",
    "\n",
    "# Sanity check print\n",
    "df.head()"
   ]
  },
  {
   "cell_type": "code",
   "execution_count": 5,
   "metadata": {},
   "outputs": [
    {
     "data": {
      "text/plain": [
       "id               6376\n",
       "image_id         6376\n",
       "category_id      6376\n",
       "segmentation     6376\n",
       "area             6376\n",
       "bbox             6376\n",
       "iscrowd          6376\n",
       "attributes       6376\n",
       "category_name    6376\n",
       "file_name        6376\n",
       "camera           6376\n",
       "dtype: int64"
      ]
     },
     "execution_count": 5,
     "metadata": {},
     "output_type": "execute_result"
    }
   ],
   "source": [
    "# N\n",
    "df.count()"
   ]
  },
  {
   "cell_type": "code",
   "execution_count": 6,
   "metadata": {},
   "outputs": [
    {
     "data": {
      "text/html": [
       "<div>\n",
       "<style scoped>\n",
       "    .dataframe tbody tr th:only-of-type {\n",
       "        vertical-align: middle;\n",
       "    }\n",
       "\n",
       "    .dataframe tbody tr th {\n",
       "        vertical-align: top;\n",
       "    }\n",
       "\n",
       "    .dataframe thead th {\n",
       "        text-align: right;\n",
       "    }\n",
       "</style>\n",
       "<table border=\"1\" class=\"dataframe\">\n",
       "  <thead>\n",
       "    <tr style=\"text-align: right;\">\n",
       "      <th></th>\n",
       "      <th>id</th>\n",
       "      <th>image_id</th>\n",
       "      <th>category_id</th>\n",
       "      <th>segmentation</th>\n",
       "      <th>area</th>\n",
       "      <th>bbox</th>\n",
       "      <th>iscrowd</th>\n",
       "      <th>attributes</th>\n",
       "      <th>file_name</th>\n",
       "      <th>camera</th>\n",
       "    </tr>\n",
       "    <tr>\n",
       "      <th>category_name</th>\n",
       "      <th></th>\n",
       "      <th></th>\n",
       "      <th></th>\n",
       "      <th></th>\n",
       "      <th></th>\n",
       "      <th></th>\n",
       "      <th></th>\n",
       "      <th></th>\n",
       "      <th></th>\n",
       "      <th></th>\n",
       "    </tr>\n",
       "  </thead>\n",
       "  <tbody>\n",
       "    <tr>\n",
       "      <th>bad</th>\n",
       "      <td>1278</td>\n",
       "      <td>1278</td>\n",
       "      <td>1278</td>\n",
       "      <td>1278</td>\n",
       "      <td>1278</td>\n",
       "      <td>1278</td>\n",
       "      <td>1278</td>\n",
       "      <td>1278</td>\n",
       "      <td>1278</td>\n",
       "      <td>1278</td>\n",
       "    </tr>\n",
       "    <tr>\n",
       "      <th>double</th>\n",
       "      <td>1242</td>\n",
       "      <td>1242</td>\n",
       "      <td>1242</td>\n",
       "      <td>1242</td>\n",
       "      <td>1242</td>\n",
       "      <td>1242</td>\n",
       "      <td>1242</td>\n",
       "      <td>1242</td>\n",
       "      <td>1242</td>\n",
       "      <td>1242</td>\n",
       "    </tr>\n",
       "    <tr>\n",
       "      <th>fish</th>\n",
       "      <td>3182</td>\n",
       "      <td>3182</td>\n",
       "      <td>3182</td>\n",
       "      <td>3182</td>\n",
       "      <td>3182</td>\n",
       "      <td>3182</td>\n",
       "      <td>3182</td>\n",
       "      <td>3182</td>\n",
       "      <td>3182</td>\n",
       "      <td>3182</td>\n",
       "    </tr>\n",
       "    <tr>\n",
       "      <th>head</th>\n",
       "      <td>674</td>\n",
       "      <td>674</td>\n",
       "      <td>674</td>\n",
       "      <td>674</td>\n",
       "      <td>674</td>\n",
       "      <td>674</td>\n",
       "      <td>674</td>\n",
       "      <td>674</td>\n",
       "      <td>674</td>\n",
       "      <td>674</td>\n",
       "    </tr>\n",
       "  </tbody>\n",
       "</table>\n",
       "</div>"
      ],
      "text/plain": [
       "                 id  image_id  category_id  segmentation  area  bbox  iscrowd  \\\n",
       "category_name                                                                   \n",
       "bad            1278      1278         1278          1278  1278  1278     1278   \n",
       "double         1242      1242         1242          1242  1242  1242     1242   \n",
       "fish           3182      3182         3182          3182  3182  3182     3182   \n",
       "head            674       674          674           674   674   674      674   \n",
       "\n",
       "               attributes  file_name  camera  \n",
       "category_name                                 \n",
       "bad                  1278       1278    1278  \n",
       "double               1242       1242    1242  \n",
       "fish                 3182       3182    3182  \n",
       "head                  674        674     674  "
      ]
     },
     "execution_count": 6,
     "metadata": {},
     "output_type": "execute_result"
    }
   ],
   "source": [
    "# true class count of whole dataset before any processing\n",
    "df.groupby(['category_name']).count()"
   ]
  },
  {
   "cell_type": "code",
   "execution_count": 7,
   "metadata": {},
   "outputs": [
    {
     "data": {
      "text/plain": [
       "category_name\n",
       "bad       0.2004\n",
       "double    0.1948\n",
       "fish      0.4991\n",
       "head      0.1057\n",
       "Name: iscrowd, dtype: float64"
      ]
     },
     "execution_count": 7,
     "metadata": {},
     "output_type": "execute_result"
    }
   ],
   "source": [
    "# true class distribution of whole dataset before any processing\n",
    "df.groupby(['category_name'])['iscrowd'].count() / df['iscrowd'].count()"
   ]
  },
  {
   "cell_type": "code",
   "execution_count": 8,
   "metadata": {},
   "outputs": [
    {
     "name": "stdout",
     "output_type": "stream",
     "text": [
      "too few points in hull to fit ellipse ../../segmentation_masks_data/images/top_2022-4-28_02-18-00_002600.png\n",
      "too few points in hull to fit ellipse ../../segmentation_masks_data/images/camera3_2022-06-23_16-04-55_002500.png\n",
      "too few points in hull to fit ellipse ../../segmentation_masks_data/images/top_2022-6-1_11-18-00_002000.png\n",
      "too few points in hull to fit ellipse ../../segmentation_masks_data/images/camera3_2022-06-25_05-03-23_002500.png\n",
      "too few points in hull to fit ellipse ../../segmentation_masks_data/images/camera3_2022-06-17_16-03-11_002000.png\n"
     ]
    }
   ],
   "source": [
    "# Compute mask features\n",
    "mask_metrics = compute_mask_metrics(imgs, imgs_path, df, img_files)\n",
    "features = get_features(mask_metrics, classes)\n",
    "X, y = get_feature_array(features)"
   ]
  },
  {
   "cell_type": "code",
   "execution_count": 42,
   "metadata": {},
   "outputs": [
    {
     "name": "stdout",
     "output_type": "stream",
     "text": [
      "[3182, 1123, 674, 1242]\n"
     ]
    },
    {
     "data": {
      "image/png": "[encoded data removed]",
      "text/plain": [
       "<Figure size 640x480 with 1 Axes>"
      ]
     },
     "metadata": {},
     "output_type": "display_data"
    },
    {
     "name": "stdout",
     "output_type": "stream",
     "text": [
      "Class\n",
      "fish      3182\n",
      "double    1242\n",
      "bad       1123\n",
      "head       674\n",
      "Name: count, dtype: int64\n",
      "category\n"
     ]
    },
    {
     "data": {
      "image/png": "[encoded data removed]",
      "text/plain": [
       "<Figure size 400x250 with 1 Axes>"
      ]
     },
     "metadata": {},
     "output_type": "display_data"
    }
   ],
   "source": [
    "# Area KDE over histogram\n",
    "\n",
    "maj_all, min_all, areas_all, n_cont_all, n_conv_all, moms_all  = mask_metrics\n",
    "display_classes = ['fish', 'bad', 'head', 'double']\n",
    "\n",
    "hist_data = [\n",
    "    areas_all['fish'],\n",
    "    [a for a in areas_all['bad'] if a < BASELINE_FILTER_MAX],\n",
    "    areas_all['head'],\n",
    "    areas_all['double']\n",
    "]\n",
    "print([len(h) for h in hist_data])\n",
    "\n",
    "# Correct histogram\n",
    "for h in hist_data:\n",
    "    plt.hist(h, alpha=0.5, bins=200)\n",
    "plt.legend(display_classes)\n",
    "plt.show()\n",
    "\n",
    "areas_tuples = []\n",
    "for cat, clss_data in zip(display_classes, hist_data):\n",
    "    areas_tuples.extend([(cat, a) for a in clss_data])\n",
    "\n",
    "df_area_plot = pd.DataFrame(areas_tuples, columns=['Class', 'Mask area'])\n",
    "df_area_plot['Class'] = pd.Categorical(df_area_plot['Class'], categories=display_classes, ordered=True)\n",
    "\n",
    "# Check data\n",
    "print(df_area_plot['Class'].value_counts())\n",
    "print(df_area_plot['Class'].dtype)\n",
    "\n",
    "palette = dict(zip(display_classes, sns.color_palette(\"tab10\", len(display_classes))))\n",
    "\n",
    "plt.figure(figsize=(4, 2.5))\n",
    "sns.histplot(\n",
    "    data=df_area_plot,\n",
    "    x='Mask area',\n",
    "    hue=df_area_plot['Class'].astype(pd.CategoricalDtype(categories=display_classes, ordered=True)),\n",
    "    palette=palette,\n",
    "    kde=True,\n",
    "    kde_kws={'bw_adjust': 0.25},\n",
    "    fill=False,\n",
    "    line_kws={'lw': 2},\n",
    "    alpha=0,\n",
    "    hue_order=display_classes)\n",
    "\n",
    "# NB: Different ordering explicitly on purpose, for some reason seaborn cannot handle \n",
    "# the ordering correctly. This is the correct ordering on MY MACHINE. \n",
    "# Check the correct plt plot above to verify.\n",
    "plt.legend(\n",
    "    title='Category',\n",
    "    labels=['Multiple', 'Head', 'Incorrect', 'Fish'],  \n",
    "    loc='upper right'\n",
    ")\n",
    "\n",
    "plt.show()"
   ]
  },
  {
   "cell_type": "code",
   "execution_count": 44,
   "metadata": {},
   "outputs": [
    {
     "name": "stdout",
     "output_type": "stream",
     "text": [
      "0.9942501735932361\n",
      "  Class  2nd Hu moment invariant\n",
      "0  fish                   0.3162\n",
      "1  fish                   0.6577\n",
      "2  fish                   0.2100\n",
      "3  fish                   0.2921\n",
      "4  fish                   0.1455\n"
     ]
    },
    {
     "data": {
      "image/png": "[encoded data removed]",
      "text/plain": [
       "<Figure size 640x480 with 1 Axes>"
      ]
     },
     "metadata": {},
     "output_type": "display_data"
    },
    {
     "data": {
      "image/png": "[encoded data removed]",
      "text/plain": [
       "<Figure size 400x250 with 1 Axes>"
      ]
     },
     "metadata": {},
     "output_type": "display_data"
    }
   ],
   "source": [
    "# Maj KDE over histogram\n",
    "\n",
    "maj_all, min_all, areas_all, n_cont_all, n_conv_all, moms_all  = mask_metrics\n",
    "\n",
    "hist_data = [\n",
    "    moms_all['fish'],\n",
    "    moms_all['bad'],\n",
    "    moms_all['head'],\n",
    "    moms_all['double']\n",
    "]\n",
    "\n",
    "mom_tuples = []\n",
    "for cat, clss_data in zip(display_classes, hist_data):\n",
    "    mom_tuples.extend([(cat, a[1]) for a in clss_data if a[1] < 1])\n",
    "\n",
    "df_mom_plot = pd.DataFrame(mom_tuples, columns=['Class', '2nd Hu moment invariant'])\n",
    "\n",
    "print(df_mom_plot['2nd Hu moment invariant'].max())\n",
    "print(df_mom_plot.head())\n",
    "\n",
    "# Correct histogram\n",
    "for d in display_classes:\n",
    "    plt.hist(df_mom_plot[df_mom_plot['Class'] == d]['2nd Hu moment invariant'].values, alpha=0.5, bins=200)\n",
    "plt.legend(display_classes)\n",
    "plt.show()\n",
    "\n",
    "df_mom_plot['Class'] = pd.Categorical(df_mom_plot['Class'], categories=display_classes)\n",
    "\n",
    "plt.figure(figsize=(4, 2.5))\n",
    "sns.histplot(\n",
    "    data=df_mom_plot,\n",
    "    x='2nd Hu moment invariant',\n",
    "    hue='Class',\n",
    "    kde=True,\n",
    "    kde_kws={'bw_adjust': 0.25},\n",
    "    fill=False,\n",
    "    line_kws={'lw': 2},\n",
    "    alpha=0)\n",
    "\n",
    "# NB: Different ordering explicitly on purpose, for some reason seaborn cannot handle \n",
    "# the ordering correctly. This is the correct ordering on MY MACHINE. \n",
    "# Check the correct plt plot above to verify.\n",
    "plt.legend(\n",
    "    title='Category',\n",
    "    labels=['Multiple', 'Head', 'Incorrect', 'Fish'],\n",
    "    loc='upper right'\n",
    ")\n",
    "\n",
    "plt.show()"
   ]
  },
  {
   "cell_type": "code",
   "execution_count": null,
   "metadata": {},
   "outputs": [],
   "source": [
    "# Baseline filtering results for the whole dataset\n",
    "filtered_masks = []\n",
    "for i, seg in df.iterrows():\n",
    "    if (seg['area'] < BASELINE_FILTER_MAX) and (seg['area'] > BASELINE_FILTER_MIN):\n",
    "        filtered_masks.append(seg)\n",
    "\n",
    "baseline_filtered_df = pd.DataFrame(filtered_masks)\n",
    "print('N', baseline_filtered_df['iscrowd'].count())\n",
    "print('Distribution of classes \\n', \\\n",
    "      baseline_filtered_df.groupby(['category_name'])['iscrowd'].count() / baseline_filtered_df['iscrowd'].count())"
   ]
  },
  {
   "cell_type": "code",
   "execution_count": null,
   "metadata": {},
   "outputs": [],
   "source": [
    "baseline_filtered_df.groupby(['category_name'])['iscrowd'].count() "
   ]
  },
  {
   "cell_type": "code",
   "execution_count": null,
   "metadata": {},
   "outputs": [],
   "source": [
    "cross_validate(X, y, 0, rs, classes)"
   ]
  },
  {
   "cell_type": "code",
   "execution_count": null,
   "metadata": {},
   "outputs": [],
   "source": [
    "cross_validate(X, y, 1, rs, classes)"
   ]
  },
  {
   "cell_type": "code",
   "execution_count": null,
   "metadata": {},
   "outputs": [],
   "source": [
    "cross_validate(X, y, 2, rs, classes)"
   ]
  },
  {
   "cell_type": "code",
   "execution_count": null,
   "metadata": {},
   "outputs": [],
   "source": [
    "cross_validate(X, y, 3, rs, classes)"
   ]
  },
  {
   "cell_type": "code",
   "execution_count": null,
   "metadata": {},
   "outputs": [],
   "source": [
    "# Cross-validated baseline filtering performance: SIZE ONLY\n",
    "scores_f, scores_fh, scores_fhm = cross_validate_baseline_filtering_results(df, rs, BASELINE_FILTER_MAX, BASELINE_FILTER_MIN)\n",
    "\n",
    "print('Fish %, mean and std: ', \"{:.3f}\".format(np.mean(scores_f)), \"{:.3f}\".format(np.std(scores_f)))\n",
    "print('Fish+head %, mean and std: ', \"{:.3f}\".format(np.mean(scores_fh)), \"{:.3f}\".format(np.std(scores_fh)))\n",
    "print('Fish+head+multiple %, mean and std: ', \"{:.3f}\".format(np.mean(scores_fhm)), \"{:.3f}\".format(np.std(scores_fhm)))"
   ]
  },
  {
   "cell_type": "code",
   "execution_count": null,
   "metadata": {},
   "outputs": [],
   "source": [
    "# Cross-validated baseline filtering performance of the RF classifier\n",
    "scores_f, scores_fh, scores_fhm = cross_validate_filtering_results(X, y, rs, prompt_method)\n",
    "print('Fish %, mean and std: ', \"{:.3f}\".format(np.mean(scores_f)), \"{:.3f}\".format(np.std(scores_f)))\n",
    "print('Fish+head %, mean and std: ', \"{:.3f}\".format(np.mean(scores_fh)), \"{:.3f}\".format(np.std(scores_fh)))\n",
    "print('Fish+head+multiple %, mean and std: ', \"{:.3f}\".format(np.mean(scores_fhm)), \"{:.3f}\".format(np.std(scores_fhm)))\n",
    "\n"
   ]
  },
  {
   "cell_type": "code",
   "execution_count": null,
   "metadata": {},
   "outputs": [],
   "source": []
  },
  {
   "cell_type": "code",
   "execution_count": null,
   "metadata": {},
   "outputs": [],
   "source": []
  },
  {
   "cell_type": "code",
   "execution_count": null,
   "metadata": {},
   "outputs": [],
   "source": []
  }
 ],
 "metadata": {
  "kernelspec": {
   "display_name": "cv_env",
   "language": "python",
   "name": "python3"
  },
  "language_info": {
   "codemirror_mode": {
    "name": "ipython",
    "version": 3
   },
   "file_extension": ".py",
   "mimetype": "text/x-python",
   "name": "python",
   "nbconvert_exporter": "python",
   "pygments_lexer": "ipython3",
   "version": "3.9.6"
  }
 },
 "nbformat": 4,
 "nbformat_minor": 2
}
